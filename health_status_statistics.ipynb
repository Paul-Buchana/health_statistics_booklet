{
  "cells": [
    {
      "cell_type": "markdown",
      "metadata": {},
      "source": [
        "```{css, echo = FALSE}\n",
        ".justify {\n",
        "  text-align: justify !important\n",
        "}\n",
        "```\n",
        "\n",
        "\n",
        "\n",
        "# Health Status Statistics\n",
        "\n",
        "::: justify\n",
        "This section looks at the overall well-being of the Rwandan population looking at health conditions, and health outcomes of individuals within the country. Key indicators pertaining to this include: life expectancy, mortalities, morbidities and risk factors.\n",
        ":::"
      ],
      "id": "82f49180"
    }
  ],
  "metadata": {
    "kernelspec": {
      "display_name": "Python 3",
      "language": "python",
      "name": "python3"
    }
  },
  "nbformat": 4,
  "nbformat_minor": 5
}